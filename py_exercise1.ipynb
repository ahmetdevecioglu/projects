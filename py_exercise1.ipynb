{
 "cells": [
  {
   "cell_type": "code",
   "execution_count": null,
   "metadata": {},
   "outputs": [],
   "source": [
    "listt = [1,2,3,4,5,7,5,4,3,2,21,2,141]\n",
    "\n",
    "for i in listt:\n",
    "    if i == 7:\n",
    "        print(f\"su an {i}. sayidayiz\")\n",
    "        continue\n",
    "        \n",
    "    print(i)"
   ]
  },
  {
   "cell_type": "code",
   "execution_count": null,
   "metadata": {},
   "outputs": [],
   "source": [
    "planets = ['Mercury', 'Venus', 'Earth', 'Mars', 'Jupiter', 'Saturn', 'Uranus', 'Neptune']\n",
    "\n",
    "plnts = {i + 1: planets[i] for i in range(len(planets))}\n",
    "\n",
    "plnts"
   ]
  },
  {
   "cell_type": "code",
   "execution_count": 6,
   "metadata": {},
   "outputs": [
    {
     "data": {
      "text/plain": [
       "[\"1. gezegenin Ingilizcesi ve Turkce karsiligi{'Mercury': 'Merkur'}\",\n",
       " \"2. gezegenin Ingilizcesi ve Turkce karsiligi{'Venus': 'Venus'}\",\n",
       " \"3. gezegenin Ingilizcesi ve Turkce karsiligi{'Earth': 'Dunya'}\",\n",
       " \"4. gezegenin Ingilizcesi ve Turkce karsiligi{'Mars': 'Mars'}\",\n",
       " \"5. gezegenin Ingilizcesi ve Turkce karsiligi{'Jupiter': 'Jupiter'}\",\n",
       " \"6. gezegenin Ingilizcesi ve Turkce karsiligi{'Saturn': 'Saturn'}\",\n",
       " \"7. gezegenin Ingilizcesi ve Turkce karsiligi{'Uranus': 'Uranus'}\",\n",
       " \"8. gezegenin Ingilizcesi ve Turkce karsiligi{'Neptune': 'Neptun'}\"]"
      ]
     },
     "execution_count": 6,
     "metadata": {},
     "output_type": "execute_result"
    }
   ],
   "source": [
    "gez_ing = ['Mercury', 'Venus', 'Earth', 'Mars', 'Jupiter', 'Saturn', 'Uranus', 'Neptune']\n",
    "gez_tr = ['Merkur', 'Venus', 'Dunya', 'Mars', 'Jupiter', 'Saturn', 'Uranus', 'Neptun']\n",
    "\n",
    "\n",
    "gezegenler = [f\"{i + 1}. gezegenin Ingilizcesi ve Turkce karsiligi\" + \n",
    "              str({gez_ing[i]: gez_tr[i]}) for i in range(len(gez_ing))]\n",
    "    \n",
    "    \n",
    "gezegenler\n"
   ]
  },
  {
   "cell_type": "code",
   "execution_count": 3,
   "metadata": {},
   "outputs": [
    {
     "data": {
      "text/plain": [
       "3"
      ]
     },
     "execution_count": 3,
     "metadata": {},
     "output_type": "execute_result"
    }
   ],
   "source": [
    "def length(arg):\n",
    "    \"\"\"finds the length of an argument\"\"\"\n",
    "    toplam = 0\n",
    "    for i in arg:\n",
    "        toplam +=1\n",
    "    return toplam\n",
    "\n",
    "a = [1,2,3]\n",
    "\n",
    "length(a)"
   ]
  },
  {
   "cell_type": "code",
   "execution_count": 5,
   "metadata": {},
   "outputs": [
    {
     "name": "stdout",
     "output_type": "stream",
     "text": [
      "120\n",
      "1\n"
     ]
    }
   ],
   "source": [
    "def faktoriyel(n):\n",
    "    sayi = 1\n",
    "    while n != 0:\n",
    "        sayi = sayi*n\n",
    "        n = n - 1\n",
    "    \n",
    "    return sayi\n",
    "\n",
    "print(faktoriyel(5))\n",
    "print(faktoriyel(0))\n"
   ]
  },
  {
   "cell_type": "code",
   "execution_count": null,
   "metadata": {},
   "outputs": [],
   "source": [
    "listt2 = [1,2,3,4,5,6,7,8,9]\n",
    "\n",
    "for i in listt2:\n",
    "    if i > 7:\n",
    "        print(\"buradan sonra sayilar 7'den buyuk\")\n",
    "        continue\n",
    "        \n",
    "    print(i)"
   ]
  },
  {
   "cell_type": "code",
   "execution_count": null,
   "metadata": {},
   "outputs": [],
   "source": [
    "import math\n",
    "\n",
    "#calculate standard deviation\n",
    "\n",
    "array = [18,34,15,45,19,17,45,49,32,16]\n",
    "\n",
    "for i in range(len(array)):\n",
    "    li = []\n",
    "    for j in array:\n",
    "        isl = (j - (sum(array) / len(array)))**2\n",
    "        li.append(isl)\n",
    "        \n",
    "a = sum(li)\n",
    "print(\"toplam:\", a)\n",
    "\n",
    "#standard devitation\n",
    "sdev = math.sqrt((a) / (len(array) - 1))\n",
    "\n"
   ]
  },
  {
   "cell_type": "code",
   "execution_count": null,
   "metadata": {},
   "outputs": [],
   "source": [
    "kisi_sayisi = int(input(\"Kac kisi geliyor? \"))\n",
    "gelen_kisi = 0\n",
    "\n",
    "for i in range(kisi_sayisi):\n",
    "    gelen_kisi +=1\n",
    "    isim = str(input(\"isminiz nedir? \"))\n",
    "    print(f\"siz gelen {gelen_kisi}. kisisiniz, Hosgeldiniz, {isim.capitalize()}!\")\n",
    "\n",
    "    "
   ]
  },
  {
   "cell_type": "code",
   "execution_count": null,
   "metadata": {},
   "outputs": [],
   "source": [
    "followers = ['a', 'b', 'c', 'd', 'k']\n",
    "following = ['a', 'b', 'c', 'e','u']\n",
    "\n",
    "for i in range(len(following)):\n",
    "    li = []\n",
    "    for j in following:\n",
    "        a = j in followers\n",
    "        li.append(a)\n",
    "        \n",
    "\n",
    "print(li)\n",
    "print(li.index(False))"
   ]
  },
  {
   "cell_type": "code",
   "execution_count": null,
   "metadata": {},
   "outputs": [],
   "source": [
    "for i in range(0,101):\n",
    "    if i % 3 == 0 and i % 5 == 0:\n",
    "        print(i)"
   ]
  },
  {
   "cell_type": "code",
   "execution_count": null,
   "metadata": {},
   "outputs": [],
   "source": [
    "text = \"abc def\"\n",
    "\n",
    "for i in text:\n",
    "    print(i)"
   ]
  },
  {
   "cell_type": "code",
   "execution_count": null,
   "metadata": {},
   "outputs": [],
   "source": [
    "#multiply all elements of the array\n",
    "\n",
    "carpim = [2, 2, 2, 3, 3, 5]\n",
    "\n",
    "sayi = 1\n",
    "\n",
    "for i in carpim:\n",
    "    sayi = sayi*i\n",
    "    \n",
    "print(sayi)"
   ]
  },
  {
   "cell_type": "code",
   "execution_count": 2,
   "metadata": {},
   "outputs": [
    {
     "name": "stdout",
     "output_type": "stream",
     "text": [
      "945\n",
      "[3, 15, 105, 945]\n"
     ]
    }
   ],
   "source": [
    "array = [3,5,7,9]\n",
    "sayi = 1\n",
    "li = []\n",
    "\n",
    "for i in array:\n",
    "    sayi = sayi * i\n",
    "    for j in range(1):\n",
    "        li.append(sayi)\n",
    "    \n",
    "print(sayi)\n",
    "print(li)"
   ]
  },
  {
   "cell_type": "code",
   "execution_count": 3,
   "metadata": {},
   "outputs": [
    {
     "name": "stdout",
     "output_type": "stream",
     "text": [
      "1. carpilan sayi 2\n",
      "2. carpilan sayi 4\n",
      "3. carpilan sayi 8\n",
      "4. carpilan sayi 24\n",
      "5. carpilan sayi 72\n",
      "6. carpilan sayi 360\n"
     ]
    }
   ],
   "source": [
    "multiplicands = (2, 2, 2, 3, 3, 5)\n",
    "\n",
    "sayi = 1\n",
    "sira = 0\n",
    "\n",
    "\n",
    "for j in multiplicands:\n",
    "    sayi = sayi * j\n",
    "    sira +=1\n",
    "    print(f\"{sira}. carpilan sayi {sayi}\")"
   ]
  },
  {
   "cell_type": "code",
   "execution_count": 4,
   "metadata": {},
   "outputs": [
    {
     "name": "stdout",
     "output_type": "stream",
     "text": [
      "123345"
     ]
    }
   ],
   "source": [
    "ls = [1,2,3,4,5,6]\n",
    "\n",
    "for i in ls:\n",
    "    if i > 3:\n",
    "        i = i - 1\n",
    "        print(i, sep = '', end = '')\n",
    "    else:\n",
    "        print(i, sep = '', end = '')"
   ]
  },
  {
   "cell_type": "code",
   "execution_count": 5,
   "metadata": {},
   "outputs": [
    {
     "name": "stdout",
     "output_type": "stream",
     "text": [
      "*                *\n",
      "**              **\n",
      "***            ***\n",
      "****          ****\n",
      "*****        *****\n",
      "******      ******\n",
      "*******    *******\n",
      "********  ********\n",
      "******************\n"
     ]
    }
   ],
   "source": [
    "toplam = 0\n",
    "carp = 9\n",
    "\n",
    "for i in range(carp):\n",
    "    toplam = toplam + 1\n",
    "    carp = carp - 1\n",
    "    print(('*' * toplam + ' ' * carp) + (carp * ' ' +'*' * toplam))"
   ]
  },
  {
   "cell_type": "code",
   "execution_count": null,
   "metadata": {},
   "outputs": [],
   "source": [
    "l = [1,2,3,4]\n",
    "t = 2\n",
    "\n",
    "def elementwise_greater_than(L, thresh):\n",
    "    \"\"\"Return a list with the same length as L, where the value at index i is \n",
    "    True if L[i] is greater than thresh, and False otherwise.\n",
    "    \"\"\"\n",
    "    return [i > t for i in L]\n",
    "        \n",
    "            \n",
    "elementwise_greater_than(l, t)"
   ]
  },
  {
   "cell_type": "code",
   "execution_count": null,
   "metadata": {},
   "outputs": [],
   "source": []
  }
 ],
 "metadata": {
  "kernelspec": {
   "display_name": "Python 3",
   "language": "python",
   "name": "python3"
  },
  "language_info": {
   "codemirror_mode": {
    "name": "ipython",
    "version": 3
   },
   "file_extension": ".py",
   "mimetype": "text/x-python",
   "name": "python",
   "nbconvert_exporter": "python",
   "pygments_lexer": "ipython3",
   "version": "3.7.6"
  }
 },
 "nbformat": 4,
 "nbformat_minor": 4
}
