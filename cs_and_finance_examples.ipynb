{
 "cells": [
  {
   "cell_type": "code",
   "execution_count": null,
   "metadata": {},
   "outputs": [],
   "source": [
    "listt = [1,2,3,4,5,7,5,4,3,2,21,2,141]\n",
    "\n",
    "for i in listt:\n",
    "    if i == 7:\n",
    "        print(f\"su an {i}. sayidayiz\")\n",
    "        continue\n",
    "        \n",
    "    print(i)"
   ]
  },
  {
   "cell_type": "code",
   "execution_count": null,
   "metadata": {},
   "outputs": [],
   "source": [
    "gez_ing = ['Mercury', 'Venus', 'Earth', 'Mars', 'Jupiter', 'Saturn', 'Uranus', 'Neptune']\n",
    "gez_tr = ['Merkur', 'Venus', 'Dunya', 'Mars', 'Jupiter', 'Saturn', 'Uranus', 'Neptun']\n",
    "\n",
    "\n",
    "gezegenler = [f\"{i + 1}. gezegenin Ingilizcesi ve Turkce karsiligi\" + \n",
    "              str({gez_ing[i]: gez_tr[i]}) for i in range(len(gez_ing))]\n",
    "    \n",
    "    \n",
    "gezegenler\n"
   ]
  },
  {
   "cell_type": "code",
   "execution_count": null,
   "metadata": {},
   "outputs": [],
   "source": [
    "def length(arg):\n",
    "    \"\"\"finds the length of an argument\"\"\"\n",
    "    toplam = 0\n",
    "    for i in arg:\n",
    "        toplam +=1\n",
    "    return toplam\n",
    "\n",
    "a = [1,2,3]\n",
    "\n",
    "length(a)"
   ]
  },
  {
   "cell_type": "code",
   "execution_count": null,
   "metadata": {},
   "outputs": [],
   "source": [
    "def faktoriyel(n):\n",
    "    sayi = 1\n",
    "    while n != 0:\n",
    "        sayi = sayi*n\n",
    "        n = n - 1\n",
    "    \n",
    "    return sayi\n",
    "\n",
    "print(faktoriyel(5))\n",
    "print(faktoriyel(0))\n"
   ]
  },
  {
   "cell_type": "code",
   "execution_count": null,
   "metadata": {},
   "outputs": [],
   "source": [
    "listt2 = [1,2,3,4,5,6,7,8,9]\n",
    "\n",
    "for i in listt2:\n",
    "    if i > 7:\n",
    "        print(\"buradan sonra sayilar 7'den buyuk\")\n",
    "        continue\n",
    "        \n",
    "    print(i)"
   ]
  },
  {
   "cell_type": "code",
   "execution_count": null,
   "metadata": {},
   "outputs": [],
   "source": [
    "import math\n",
    "\n",
    "#calculate standard deviation\n",
    "\n",
    "array = [18,34,15,45,19,17,45,49,32,16]\n",
    "\n",
    "for i in range(len(array)):\n",
    "    li = []\n",
    "    for j in array:\n",
    "        isl = (j - (sum(array) / len(array)))**2\n",
    "        li.append(isl)\n",
    "        \n",
    "a = sum(li)\n",
    "print(\"toplam:\", a)\n",
    "\n",
    "#standard devitation\n",
    "sdev = math.sqrt((a) / (len(array) - 1))\n",
    "\n"
   ]
  },
  {
   "cell_type": "code",
   "execution_count": null,
   "metadata": {},
   "outputs": [],
   "source": [
    "kisi_sayisi = int(input(\"Kac kisi geliyor? \"))\n",
    "gelen_kisi = 0\n",
    "\n",
    "for i in range(kisi_sayisi):\n",
    "    gelen_kisi +=1\n",
    "    isim = str(input(\"isminiz nedir? \"))\n",
    "    print(f\"siz gelen {gelen_kisi}. kisisiniz, Hosgeldiniz, {isim.capitalize()}!\")\n",
    "\n",
    "    "
   ]
  },
  {
   "cell_type": "code",
   "execution_count": null,
   "metadata": {},
   "outputs": [],
   "source": [
    "followers = ['a', 'b', 'c', 'd', 'k']\n",
    "following = ['a', 'b', 'c', 'e','u']\n",
    "\n",
    "for i in range(len(following)):\n",
    "    li = []\n",
    "    for j in following:\n",
    "        a = j in followers\n",
    "        li.append(a)\n",
    "        \n",
    "\n",
    "print(li)\n",
    "print(li.index(False))"
   ]
  },
  {
   "cell_type": "code",
   "execution_count": null,
   "metadata": {},
   "outputs": [],
   "source": [
    "for i in range(0,101):\n",
    "    if i % 3 == 0 and i % 5 == 0:\n",
    "        print(i)"
   ]
  },
  {
   "cell_type": "code",
   "execution_count": null,
   "metadata": {},
   "outputs": [],
   "source": [
    "text = \"abc def\"\n",
    "\n",
    "for i in text:\n",
    "    print(i)"
   ]
  },
  {
   "cell_type": "code",
   "execution_count": null,
   "metadata": {},
   "outputs": [],
   "source": [
    "#multiply all elements of the array\n",
    "\n",
    "carpim = [2, 2, 2, 3, 3, 5]\n",
    "\n",
    "sayi = 1\n",
    "\n",
    "for i in carpim:\n",
    "    sayi = sayi*i\n",
    "    \n",
    "print(sayi)"
   ]
  },
  {
   "cell_type": "code",
   "execution_count": null,
   "metadata": {},
   "outputs": [],
   "source": [
    "array = [3,5,7,9]\n",
    "sayi = 1\n",
    "li = []\n",
    "\n",
    "for i in array:\n",
    "    sayi = sayi * i\n",
    "    for j in range(1):\n",
    "        li.append(sayi)\n",
    "    \n",
    "print(sayi)\n",
    "print(li)"
   ]
  },
  {
   "cell_type": "code",
   "execution_count": null,
   "metadata": {},
   "outputs": [],
   "source": [
    "multiplicands = (2, 2, 2, 3, 3, 5)\n",
    "\n",
    "sayi = 1\n",
    "sira = 0\n",
    "\n",
    "\n",
    "for j in multiplicands:\n",
    "    sayi = sayi * j\n",
    "    sira +=1\n",
    "    print(f\"{sira}. carpilan sayi {sayi}\")"
   ]
  },
  {
   "cell_type": "code",
   "execution_count": null,
   "metadata": {},
   "outputs": [],
   "source": [
    "ls = [1,2,3,4,5,6]\n",
    "\n",
    "for i in ls:\n",
    "    if i > 3:\n",
    "        i = i - 1\n",
    "        print(i, sep = '', end = '')\n",
    "    else:\n",
    "        print(i, sep = '', end = '')"
   ]
  },
  {
   "cell_type": "code",
   "execution_count": null,
   "metadata": {},
   "outputs": [],
   "source": [
    "toplam = 0\n",
    "carp = 9\n",
    "\n",
    "for i in range(carp):\n",
    "    toplam = toplam + 1\n",
    "    carp = carp - 1\n",
    "    print(('*' * toplam + ' ' * carp) + (carp * ' ' +'*' * toplam))"
   ]
  },
  {
   "cell_type": "code",
   "execution_count": null,
   "metadata": {},
   "outputs": [],
   "source": [
    "new_list = []\n",
    "\n",
    "\n",
    "for i in doc_list:\n",
    "    x = i.split()\n",
    "    new_list.extend(x)\n",
    "    \n",
    "keyword = 'Casino.'  \n",
    "\n",
    "if keyword in new_list:\n",
    "    print(new_list.index(keyword))\n"
   ]
  },
  {
   "cell_type": "code",
   "execution_count": null,
   "metadata": {},
   "outputs": [],
   "source": [
    "new_list"
   ]
  },
  {
   "cell_type": "code",
   "execution_count": null,
   "metadata": {},
   "outputs": [],
   "source": [
    "import random\n",
    "\n",
    "\n",
    "\n",
    "para = 100\n",
    "\n",
    "t = 0\n",
    "bos = []\n",
    "bos2 = []\n",
    "\n",
    "for i in range(0,52):\n",
    "    t+=1\n",
    "    oran1 = 0.02\n",
    "    \n",
    "    for j in range(0,7):\n",
    "        oran = random.uniform(-0.15, 0.15)\n",
    "        k = para*((1+oran))\n",
    "        bos.append(k)\n",
    "        \n",
    "    \n",
    "    bos2.append(bos[-1])"
   ]
  },
  {
   "cell_type": "code",
   "execution_count": null,
   "metadata": {},
   "outputs": [],
   "source": [
    "bos2"
   ]
  },
  {
   "cell_type": "code",
   "execution_count": null,
   "metadata": {},
   "outputs": [],
   "source": [
    "[947.8602574012524,\n",
    " 1293.818254416301,\n",
    " 939.0816910724434,\n",
    " 1114.178954902487,\n",
    " 1381.6608885233886,\n",
    " 366.7711267205696,\n",
    " 1878.1636167788251,\n",
    " 2243.8662996554012,\n",
    " 3098.5789493793786,\n",
    " 1102.62935755568,\n",
    " 3322.377415049932,\n",
    " 846.4610572499231,\n",
    " 6766.872701810017,\n",
    " 5036.1902452294435,\n",
    " 4696.618612812614,\n",
    " 278.87505479157863,\n",
    " 1659.5284364602223,\n",
    " 3401.583547354203,\n",
    " 8779.575968929272,\n",
    " 80.24614464360118,\n",
    " 1701.4358327983603,\n",
    " 51.91177870973007,\n",
    " 10608.509515168838,\n",
    " 20853.501108683824,\n",
    " 2898.562283544535,\n",
    " 75.02791131426459,\n",
    " 2708.3132640499857,\n",
    " 824.9093711759015,\n",
    " 38330.12217061283,\n",
    " 523.4117356519816,\n",
    " 7106.156218185988,\n",
    " 10853.122131492077,\n",
    " 283.7883504648728,\n",
    " 22413.280266013287,\n",
    " 430.38611926903866,\n",
    " 53810.08738710493,\n",
    " 57123.06075360666,\n",
    " 19210.440570902792,\n",
    " 4170.462214962342,\n",
    " 11847.481222936178,\n",
    " 84248.27620392143,\n",
    " 45984.72784938244,\n",
    " 330733.12164598797,\n",
    " 25.028132979662217,\n",
    " 88.01599165412057,\n",
    " 15233.898073505074,\n",
    " 171.68173837920875,\n",
    " 6.58727022120768,\n",
    " 19972.864857223565,\n",
    " 2.9531932793416735,\n",
    " 33.81515252534891,\n",
    " 21826.090716476316]\n"
   ]
  },
  {
   "cell_type": "code",
   "execution_count": null,
   "metadata": {},
   "outputs": [],
   "source": [
    "[806.3259979334873,\n",
    " 872.030623834326,\n",
    " 1105.6811777722778,\n",
    " 1062.6720221463854,\n",
    " 2011.4551870837633,\n",
    " 1781.052376970059,\n",
    " 1739.5888363948607,\n",
    " 1231.9688915005174,\n",
    " 2997.1004686482074,\n",
    " 2287.7914052799633,\n",
    " 1671.8856818193372,\n",
    " 4921.093361075632,\n",
    " 4282.939194746795,\n",
    " 648.1935866289899,\n",
    " 217.46027811747751,\n",
    " 637.2977505519399,\n",
    " 1646.752932119997,\n",
    " 1880.6755179418149,\n",
    " 183.36892205730936,\n",
    " 52.86383259063597,\n",
    " 11443.791713016124,\n",
    " 1961.479605860627,\n",
    " 10251.121676238488,\n",
    " 2299.749857608014,\n",
    " 7573.222833063421,\n",
    " 13882.802139667869,\n",
    " 195.36026227590796,\n",
    " 1099.2903163830479,\n",
    " 1114.403134045684,\n",
    " 5569.961737795496,\n",
    " 22462.96639958218,\n",
    " 14317.036631746521,\n",
    " 81.22785588240016,\n",
    " 2243.204536733313,\n",
    " 1565.0825294468023,\n",
    " 11866.318051576125,\n",
    " 174.77001492246666,\n",
    " 378.6904525301433,\n",
    " 46042.975290411174,\n",
    " 65713.94594302884,\n",
    " 1339.7129944552207,\n",
    " 1.8034053871066336,\n",
    " 34.50631841747584,\n",
    " 93440.87684956682,\n",
    " 31.19551410787753,\n",
    " 6624.106095769877,\n",
    " 12285.240404376329,\n",
    " 462261.53123063414,\n",
    " 79400.1542352821,\n",
    " 4.219376027165647,\n",
    " 30590.859947129607,\n",
    " 25826.305875670718]"
   ]
  },
  {
   "cell_type": "code",
   "execution_count": null,
   "metadata": {},
   "outputs": [],
   "source": [
    "plt.plot(bos)"
   ]
  },
  {
   "cell_type": "code",
   "execution_count": null,
   "metadata": {},
   "outputs": [],
   "source": [
    "(54-58)/58"
   ]
  },
  {
   "cell_type": "code",
   "execution_count": null,
   "metadata": {},
   "outputs": [],
   "source": [
    "(47-54)/54"
   ]
  },
  {
   "cell_type": "code",
   "execution_count": null,
   "metadata": {},
   "outputs": [],
   "source": [
    "(54-47)/47"
   ]
  },
  {
   "cell_type": "code",
   "execution_count": null,
   "metadata": {},
   "outputs": [],
   "source": [
    "nl = []\n",
    "nl = bos"
   ]
  },
  {
   "cell_type": "code",
   "execution_count": null,
   "metadata": {},
   "outputs": [],
   "source": [
    "nl"
   ]
  },
  {
   "cell_type": "code",
   "execution_count": null,
   "metadata": {},
   "outputs": [],
   "source": [
    "sum(bos2)"
   ]
  },
  {
   "cell_type": "code",
   "execution_count": null,
   "metadata": {},
   "outputs": [],
   "source": [
    "52*100"
   ]
  },
  {
   "cell_type": "code",
   "execution_count": null,
   "metadata": {},
   "outputs": [],
   "source": [
    "import random\n",
    "\n",
    "para = 100\n",
    "oran = random.uniform(-0.15, 0.15)\n",
    "t = 0\n",
    "ls = []\n",
    "\n",
    "for i in range(0,7):\n",
    "    t += 1\n",
    "    oran = random.uniform(-0.15, 0.15)\n",
    "    x = para*(1+oran)\n",
    "    ls.append(x)\n",
    "    print(x)\n",
    "    \n",
    "    "
   ]
  },
  {
   "cell_type": "code",
   "execution_count": null,
   "metadata": {},
   "outputs": [],
   "source": [
    "ls"
   ]
  },
  {
   "cell_type": "code",
   "execution_count": null,
   "metadata": {},
   "outputs": [],
   "source": [
    "import math\n",
    "\n",
    "bos = []\n",
    "\n",
    "for i in range(1,10):\n",
    "    x = (math.log(i))\n",
    "    bos.append(x)\n",
    "    \n",
    "\n",
    "    \n"
   ]
  },
  {
   "cell_type": "code",
   "execution_count": null,
   "metadata": {},
   "outputs": [],
   "source": [
    "def growth(k1, k2, g1, g2):\n",
    "    \n",
    "    #pricipal, growth rate, time\n",
    "    \n",
    "    t = 0\n",
    "\n",
    "    while True:\n",
    "        \n",
    "        \n",
    "        grow1 = k1 * ((1+ g1) ** t)\n",
    "        \n",
    "        grow2 = k2 * ((1+ g2) ** t)\n",
    "\n",
    "        \n",
    "        t += 1\n",
    "        \n",
    "        \n",
    "        if grow1 == grow2:\n",
    "            \n",
    "            print('they are now equal at year', t)\n",
    "            break\n",
    "            \n",
    "            \n",
    "        \n",
    "        \n",
    "        \n",
    "        \n",
    "        \n",
    "        \n",
    "        \n",
    "        \n",
    "        \n",
    "        "
   ]
  },
  {
   "cell_type": "code",
   "execution_count": null,
   "metadata": {},
   "outputs": [],
   "source": [
    "growth(14_000_000_000, 20_000_000_000, 0.06, 0.02)"
   ]
  },
  {
   "cell_type": "code",
   "execution_count": null,
   "metadata": {},
   "outputs": [],
   "source": [
    "def grw(k, g, t):\n",
    "    \n",
    "    gro = k*((1+g)**t)\n",
    "    return gro"
   ]
  },
  {
   "cell_type": "code",
   "execution_count": null,
   "metadata": {},
   "outputs": [],
   "source": [
    "grw(14_000_000_000, 0.08, 8)"
   ]
  },
  {
   "cell_type": "code",
   "execution_count": null,
   "metadata": {},
   "outputs": [],
   "source": [
    "grw(20_000_000_000, 0.03, 8)"
   ]
  },
  {
   "cell_type": "code",
   "execution_count": null,
   "metadata": {},
   "outputs": [],
   "source": [
    "x = 0.25\n",
    "\n",
    "for i in range(10):\n",
    "    \n",
    "    x = 1-x\n",
    "    print(x)\n",
    "    \n",
    "    "
   ]
  },
  {
   "cell_type": "code",
   "execution_count": null,
   "metadata": {},
   "outputs": [],
   "source": []
  },
  {
   "cell_type": "code",
   "execution_count": null,
   "metadata": {},
   "outputs": [],
   "source": [
    "pv_annuity(700, 0.04, 5)\n"
   ]
  },
  {
   "cell_type": "code",
   "execution_count": null,
   "metadata": {},
   "outputs": [],
   "source": [
    "def pv_annuity(k, r, t, style):\n",
    "    pv_list=[]\n",
    "    if style == str(\"ordinary\"):\n",
    "        b = 1\n",
    "    elif style == str(\"due\"):\n",
    "        b = 0\n",
    "    else:\n",
    "        print(\"smth missing\")\n",
    "        \n",
    "    for i in range(t):\n",
    "        pv = k/(1+r)**(i+b)\n",
    "        t+=1\n",
    "        pv_list.append(pv)\n",
    "    total_pv = 0\n",
    "    \n",
    "    for j in range(len(pv_list)):\n",
    "        \n",
    "        total_pv += pv_list[j]\n",
    "        \n",
    "    return total_pv    \n",
    "    "
   ]
  },
  {
   "cell_type": "code",
   "execution_count": null,
   "metadata": {},
   "outputs": [],
   "source": [
    "pv_annuity(12000, 0.09, 25, \"ordinary\")"
   ]
  },
  {
   "cell_type": "code",
   "execution_count": null,
   "metadata": {},
   "outputs": [],
   "source": [
    "pv_annuity(20000, 0.11, 30, 'ordinary')"
   ]
  },
  {
   "cell_type": "code",
   "execution_count": null,
   "metadata": {},
   "outputs": [],
   "source": [
    "pv_annuity(20000, 0.09, 30, 'ordinary')"
   ]
  },
  {
   "cell_type": "code",
   "execution_count": null,
   "metadata": {},
   "outputs": [],
   "source": [
    "pv = 173875.8514693223/(1+0.09)**20\n",
    "pv"
   ]
  },
  {
   "cell_type": "code",
   "execution_count": null,
   "metadata": {},
   "outputs": [],
   "source": [
    "def fv_annuity(k, r, t, style):\n",
    "    pv_list=[]\n",
    "    if style == str(\"ordinary\"):\n",
    "        b = 1\n",
    "    elif style == str(\"due\"):\n",
    "        b = 0\n",
    "    else:\n",
    "        print(\"smth missing\")\n",
    "        \n",
    "    for i in range(t):\n",
    "        pv = k*(1+r)**(i+b)\n",
    "        t+=1\n",
    "        pv_list.append(pv)\n",
    "    total_pv = 0\n",
    "    \n",
    "    for j in range(len(pv_list)):\n",
    "        \n",
    "        total_pv += pv_list[j]\n",
    "        \n",
    "    return total_pv    \n",
    "    "
   ]
  },
  {
   "cell_type": "code",
   "execution_count": null,
   "metadata": {},
   "outputs": [],
   "source": [
    "fv_annuity(1110, 0.07, 45, 'ordinary')"
   ]
  },
  {
   "cell_type": "code",
   "execution_count": null,
   "metadata": {},
   "outputs": [],
   "source": [
    "fv_annuity(1210, 0.12, 11, 'ordinary')"
   ]
  },
  {
   "cell_type": "code",
   "execution_count": null,
   "metadata": {},
   "outputs": [],
   "source": [
    "def fv_mixedstream(ls, r):\n",
    "    num = 0\n",
    "    pro = []\n",
    "    for i in range(len(ls)):\n",
    "        fv = ls[i]*(1+r)**(i+1)\n",
    "        pro.append(fv)\n",
    "        num += fv\n",
    "    print(f\"fv of mixed stream of is {num}\")\n",
    "    return pro"
   ]
  },
  {
   "cell_type": "code",
   "execution_count": null,
   "metadata": {},
   "outputs": [],
   "source": [
    "liste = [11500, 14000, 12900, 16000, 18000]\n",
    "\n",
    "fv_mixedstream(liste, 0.08)"
   ]
  },
  {
   "cell_type": "code",
   "execution_count": null,
   "metadata": {},
   "outputs": [],
   "source": [
    "def pv_mix(lst, r):\n",
    "    numm = 0\n",
    "    pro = []\n",
    "    for i in range(len(lst)):\n",
    "        pv = lst[i]/(1+r)**(i+1)\n",
    "        pro.append(pv)\n",
    "        numm += pv\n",
    "    print(f\"pv of mixed stream is {numm}\")\n",
    "    return pro"
   ]
  },
  {
   "cell_type": "code",
   "execution_count": null,
   "metadata": {},
   "outputs": [],
   "source": [
    "lis = [5000 for i in range(10)]\n",
    "\n",
    "pv_mix(lis, 0.17)\n",
    "print(lis)"
   ]
  },
  {
   "cell_type": "code",
   "execution_count": null,
   "metadata": {},
   "outputs": [],
   "source": [
    "import math\n",
    "\n",
    "math.exp"
   ]
  },
  {
   "cell_type": "code",
   "execution_count": null,
   "metadata": {},
   "outputs": [],
   "source": [
    "1000*(1.07)**4"
   ]
  },
  {
   "cell_type": "code",
   "execution_count": null,
   "metadata": {},
   "outputs": [],
   "source": [
    "lis = [1000 for i in range(5)]"
   ]
  },
  {
   "cell_type": "code",
   "execution_count": null,
   "metadata": {},
   "outputs": [],
   "source": [
    "def fv_annuity(k, r, t, style):\n",
    "    bos_ls =[]\n",
    "    n = 0\n",
    "    if style==\"ordinary\":\n",
    "        a = 1\n",
    "    elif style ==\"due\":\n",
    "        a = 0\n",
    "    while t != 0:\n",
    "        fv = k*(1+r)**(t-a)\n",
    "        t-=1\n",
    "        n+=fv\n",
    "        bos_ls.append(fv)\n",
    "    print(f\"{n}\")\n",
    "    return bos_ls\n",
    "        \n",
    "        \n",
    "    \n",
    "    "
   ]
  },
  {
   "cell_type": "code",
   "execution_count": null,
   "metadata": {},
   "outputs": [],
   "source": [
    "fv_annuity(1000, 0.07, 5, \"due\")\n"
   ]
  },
  {
   "cell_type": "code",
   "execution_count": null,
   "metadata": {},
   "outputs": [],
   "source": [
    "def fv_mix(ls, r, t):\n",
    "    bos_ls =[]\n",
    "    n = 0\n",
    "    i=0\n",
    "    while t != 0:\n",
    "        fv = ls[i]*(1+r)**(t-1)\n",
    "        i+=1\n",
    "        t-=1\n",
    "        n+=fv\n",
    "        bos_ls.append(fv)\n",
    "    print(f\"{n}\")\n",
    "    return bos_ls"
   ]
  },
  {
   "cell_type": "code",
   "execution_count": null,
   "metadata": {},
   "outputs": [],
   "source": [
    "fv_mix(my_list, 0.08, 5)"
   ]
  },
  {
   "cell_type": "code",
   "execution_count": null,
   "metadata": {},
   "outputs": [],
   "source": [
    "my_list = [11500, 14000, 12900, 16000, 18000]"
   ]
  },
  {
   "cell_type": "code",
   "execution_count": null,
   "metadata": {},
   "outputs": [],
   "source": [
    "def npv(lst, r, init_inv):\n",
    "    numm = 0\n",
    "    pro = []\n",
    "    for i in range(len(lst)):\n",
    "        pv = lst[i]/(1+r)**(i+1)\n",
    "        pro.append(pv)\n",
    "        numm += pv\n",
    "    print(f\"npv of mixed stream is {numm - init_inv}\")\n",
    "    return pro"
   ]
  },
  {
   "cell_type": "code",
   "execution_count": null,
   "metadata": {},
   "outputs": [],
   "source": [
    "li0 = [4000 for i in range(10)]\n",
    "x = 100000\n",
    "li1=[]\n",
    "for i in range(6):\n",
    "    x+=20000\n",
    "    li1.append(x)\n",
    "a = 20000    \n",
    "li2 =[]\n",
    "for i in range(10):\n",
    "    a-=1000\n",
    "    li2.append(a)\n",
    "    \n",
    "li3 = [230000 for i in range(10)]\n",
    "li5 = []\n",
    "li4 = [0,0,0,20000,30000,0,50000,60000,70000]\n",
    "t = 0\n",
    "while t<0:\n",
    "    t+=1\n",
    "    if t==1 and t ==2 and t ==3 and t == 6:\n",
    "        for i in ragen(3):\n",
    "            li5.append(0)\n",
    "    elif t == 4:\n",
    "        li5.append(20000,30000)\n",
    "   \n",
    "    \n",
    "        "
   ]
  },
  {
   "cell_type": "code",
   "execution_count": null,
   "metadata": {},
   "outputs": [],
   "source": [
    "li4"
   ]
  },
  {
   "cell_type": "code",
   "execution_count": null,
   "metadata": {},
   "outputs": [],
   "source": [
    "li3"
   ]
  },
  {
   "cell_type": "code",
   "execution_count": null,
   "metadata": {},
   "outputs": [],
   "source": [
    "npv(li0, 0.14, 26000)\n",
    "npv(li1, 0.14, 500000)\n",
    "npv(li2, 0.14, 170000)\n",
    "npv(li3, 0.14, 950000)\n",
    "npv(li4, 0.14, 80000)"
   ]
  },
  {
   "cell_type": "code",
   "execution_count": null,
   "metadata": {},
   "outputs": [],
   "source": [
    "npv(li1, 0.14, 500000)\n"
   ]
  },
  {
   "cell_type": "code",
   "execution_count": null,
   "metadata": {},
   "outputs": [],
   "source": [
    "npv(li4, 0.14, 80000)"
   ]
  },
  {
   "cell_type": "code",
   "execution_count": null,
   "metadata": {},
   "outputs": [],
   "source": [
    "l1 = [140000 for i in range(5)]\n",
    "li_v1 =[280000, 120000]\n",
    "li_v2 = [100000 for i in range(3)]\n",
    "l2 = li_v1 + li_v2"
   ]
  },
  {
   "cell_type": "code",
   "execution_count": null,
   "metadata": {},
   "outputs": [],
   "source": [
    "npv(l1, 0.1, 420000)"
   ]
  },
  {
   "cell_type": "code",
   "execution_count": null,
   "metadata": {},
   "outputs": [],
   "source": [
    "npv(l2, 0.1, 450000)"
   ]
  },
  {
   "cell_type": "code",
   "execution_count": null,
   "metadata": {},
   "outputs": [],
   "source": [
    "import numpy as np\n",
    "npf.irr(l1)"
   ]
  },
  {
   "cell_type": "code",
   "execution_count": null,
   "metadata": {},
   "outputs": [],
   "source": [
    "import numpy_financial as npf"
   ]
  },
  {
   "cell_type": "code",
   "execution_count": null,
   "metadata": {},
   "outputs": [],
   "source": [
    "npf.irr(ll)"
   ]
  },
  {
   "cell_type": "code",
   "execution_count": null,
   "metadata": {},
   "outputs": [],
   "source": [
    "ll = [-420000, 140000, 140000, 140000, 140000, 140000]"
   ]
  },
  {
   "cell_type": "code",
   "execution_count": null,
   "metadata": {},
   "outputs": [],
   "source": [
    "a = [55000,60000,65000,70000,75000]\n",
    "b = [55000,55000,55000,55000,55000]"
   ]
  },
  {
   "cell_type": "code",
   "execution_count": null,
   "metadata": {},
   "outputs": [],
   "source": [
    "npv(a, 0.10, 210000)"
   ]
  },
  {
   "cell_type": "code",
   "execution_count": null,
   "metadata": {},
   "outputs": [],
   "source": [
    "npv(b, 0.10, 180000)"
   ]
  },
  {
   "cell_type": "code",
   "execution_count": null,
   "metadata": {},
   "outputs": [],
   "source": [
    "a1 = [-210000,55000,60000,65000,70000,75000]\n",
    "b1 = [-180000,55000,55000,55000,55000,55000]"
   ]
  },
  {
   "cell_type": "code",
   "execution_count": null,
   "metadata": {},
   "outputs": [],
   "source": [
    "npf.irr(a1)"
   ]
  },
  {
   "cell_type": "code",
   "execution_count": null,
   "metadata": {},
   "outputs": [],
   "source": [
    "npf.irr(b1)"
   ]
  },
  {
   "cell_type": "code",
   "execution_count": null,
   "metadata": {},
   "outputs": [],
   "source": [
    "fv_annuity(1170, 0.07, 43, 'ordinary' )"
   ]
  },
  {
   "cell_type": "code",
   "execution_count": null,
   "metadata": {},
   "outputs": [],
   "source": [
    "la = [1170.41 for i in range(43)]\n",
    "len(la)\n",
    "lb = [3003 for i in range(9)]\n",
    "lc = [880 for i in range(43)]"
   ]
  },
  {
   "cell_type": "code",
   "execution_count": null,
   "metadata": {},
   "outputs": [],
   "source": [
    "fv_mix(lc, 0.07, 43)"
   ]
  },
  {
   "cell_type": "code",
   "execution_count": null,
   "metadata": {},
   "outputs": [],
   "source": [
    "fv_mix(la, 0.07, 43)"
   ]
  },
  {
   "cell_type": "code",
   "execution_count": null,
   "metadata": {},
   "outputs": [],
   "source": []
  }
 ],
 "metadata": {
  "kernelspec": {
   "display_name": "Python 3",
   "language": "python",
   "name": "python3"
  },
  "language_info": {
   "codemirror_mode": {
    "name": "ipython",
    "version": 3
   },
   "file_extension": ".py",
   "mimetype": "text/x-python",
   "name": "python",
   "nbconvert_exporter": "python",
   "pygments_lexer": "ipython3",
   "version": "3.7.6"
  }
 },
 "nbformat": 4,
 "nbformat_minor": 4
}
