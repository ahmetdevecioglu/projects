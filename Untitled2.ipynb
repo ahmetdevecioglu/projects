{
 "cells": [
  {
   "cell_type": "code",
   "execution_count": 5,
   "metadata": {},
   "outputs": [],
   "source": [
    "import numpy as np\n",
    "import pandas as pd\n",
    "import matplotlib.pyplot as plt\n",
    "from pandas.plotting import scatter_matrix\n",
    "from scipy import stats"
   ]
  },
  {
   "cell_type": "code",
   "execution_count": 6,
   "metadata": {},
   "outputs": [],
   "source": [
    "veri = pd.read_csv(\"Book2.csv\", index_col = \"Years\")"
   ]
  },
  {
   "cell_type": "code",
   "execution_count": 7,
   "metadata": {},
   "outputs": [
    {
     "data": {
      "text/html": [
       "<div>\n",
       "<style scoped>\n",
       "    .dataframe tbody tr th:only-of-type {\n",
       "        vertical-align: middle;\n",
       "    }\n",
       "\n",
       "    .dataframe tbody tr th {\n",
       "        vertical-align: top;\n",
       "    }\n",
       "\n",
       "    .dataframe thead th {\n",
       "        text-align: right;\n",
       "    }\n",
       "</style>\n",
       "<table border=\"1\" class=\"dataframe\">\n",
       "  <thead>\n",
       "    <tr style=\"text-align: right;\">\n",
       "      <th></th>\n",
       "      <th>GDP</th>\n",
       "      <th>interest</th>\n",
       "      <th>Savings</th>\n",
       "      <th>Capital</th>\n",
       "    </tr>\n",
       "  </thead>\n",
       "  <tbody>\n",
       "    <tr>\n",
       "      <th>count</th>\n",
       "      <td>11.000000</td>\n",
       "      <td>11.000000</td>\n",
       "      <td>11.000000</td>\n",
       "      <td>11.000000</td>\n",
       "    </tr>\n",
       "    <tr>\n",
       "      <th>mean</th>\n",
       "      <td>191.727273</td>\n",
       "      <td>85.682727</td>\n",
       "      <td>38.363636</td>\n",
       "      <td>44.545455</td>\n",
       "    </tr>\n",
       "    <tr>\n",
       "      <th>std</th>\n",
       "      <td>51.563729</td>\n",
       "      <td>34.978192</td>\n",
       "      <td>14.389390</td>\n",
       "      <td>10.755126</td>\n",
       "    </tr>\n",
       "    <tr>\n",
       "      <th>min</th>\n",
       "      <td>130.000000</td>\n",
       "      <td>59.870000</td>\n",
       "      <td>24.000000</td>\n",
       "      <td>31.000000</td>\n",
       "    </tr>\n",
       "    <tr>\n",
       "      <th>25%</th>\n",
       "      <td>154.000000</td>\n",
       "      <td>68.700000</td>\n",
       "      <td>28.500000</td>\n",
       "      <td>35.500000</td>\n",
       "    </tr>\n",
       "    <tr>\n",
       "      <th>50%</th>\n",
       "      <td>180.000000</td>\n",
       "      <td>73.990000</td>\n",
       "      <td>32.000000</td>\n",
       "      <td>45.000000</td>\n",
       "    </tr>\n",
       "    <tr>\n",
       "      <th>75%</th>\n",
       "      <td>222.000000</td>\n",
       "      <td>85.505000</td>\n",
       "      <td>45.500000</td>\n",
       "      <td>50.000000</td>\n",
       "    </tr>\n",
       "    <tr>\n",
       "      <th>max</th>\n",
       "      <td>275.000000</td>\n",
       "      <td>183.200000</td>\n",
       "      <td>68.000000</td>\n",
       "      <td>64.000000</td>\n",
       "    </tr>\n",
       "  </tbody>\n",
       "</table>\n",
       "</div>"
      ],
      "text/plain": [
       "              GDP    interest    Savings    Capital\n",
       "count   11.000000   11.000000  11.000000  11.000000\n",
       "mean   191.727273   85.682727  38.363636  44.545455\n",
       "std     51.563729   34.978192  14.389390  10.755126\n",
       "min    130.000000   59.870000  24.000000  31.000000\n",
       "25%    154.000000   68.700000  28.500000  35.500000\n",
       "50%    180.000000   73.990000  32.000000  45.000000\n",
       "75%    222.000000   85.505000  45.500000  50.000000\n",
       "max    275.000000  183.200000  68.000000  64.000000"
      ]
     },
     "execution_count": 7,
     "metadata": {},
     "output_type": "execute_result"
    }
   ],
   "source": [
    "veri.describe()"
   ]
  },
  {
   "cell_type": "code",
   "execution_count": 8,
   "metadata": {},
   "outputs": [
    {
     "data": {
      "text/html": [
       "<div>\n",
       "<style scoped>\n",
       "    .dataframe tbody tr th:only-of-type {\n",
       "        vertical-align: middle;\n",
       "    }\n",
       "\n",
       "    .dataframe tbody tr th {\n",
       "        vertical-align: top;\n",
       "    }\n",
       "\n",
       "    .dataframe thead th {\n",
       "        text-align: right;\n",
       "    }\n",
       "</style>\n",
       "<table border=\"1\" class=\"dataframe\">\n",
       "  <thead>\n",
       "    <tr style=\"text-align: right;\">\n",
       "      <th></th>\n",
       "      <th>GDP</th>\n",
       "      <th>interest</th>\n",
       "      <th>Savings</th>\n",
       "      <th>Capital</th>\n",
       "    </tr>\n",
       "  </thead>\n",
       "  <tbody>\n",
       "    <tr>\n",
       "      <th>GDP</th>\n",
       "      <td>1.000000</td>\n",
       "      <td>0.465042</td>\n",
       "      <td>0.972153</td>\n",
       "      <td>0.946065</td>\n",
       "    </tr>\n",
       "    <tr>\n",
       "      <th>interest</th>\n",
       "      <td>0.465042</td>\n",
       "      <td>1.000000</td>\n",
       "      <td>0.382611</td>\n",
       "      <td>0.451424</td>\n",
       "    </tr>\n",
       "    <tr>\n",
       "      <th>Savings</th>\n",
       "      <td>0.972153</td>\n",
       "      <td>0.382611</td>\n",
       "      <td>1.000000</td>\n",
       "      <td>0.940050</td>\n",
       "    </tr>\n",
       "    <tr>\n",
       "      <th>Capital</th>\n",
       "      <td>0.946065</td>\n",
       "      <td>0.451424</td>\n",
       "      <td>0.940050</td>\n",
       "      <td>1.000000</td>\n",
       "    </tr>\n",
       "  </tbody>\n",
       "</table>\n",
       "</div>"
      ],
      "text/plain": [
       "               GDP  interest   Savings   Capital\n",
       "GDP       1.000000  0.465042  0.972153  0.946065\n",
       "interest  0.465042  1.000000  0.382611  0.451424\n",
       "Savings   0.972153  0.382611  1.000000  0.940050\n",
       "Capital   0.946065  0.451424  0.940050  1.000000"
      ]
     },
     "execution_count": 8,
     "metadata": {},
     "output_type": "execute_result"
    }
   ],
   "source": [
    "veri.corr()"
   ]
  },
  {
   "cell_type": "code",
   "execution_count": 9,
   "metadata": {},
   "outputs": [
    {
     "data": {
      "text/plain": [
       "array([[<matplotlib.axes._subplots.AxesSubplot object at 0x0000020230325EC8>,\n",
       "        <matplotlib.axes._subplots.AxesSubplot object at 0x000002023373AFC8>,\n",
       "        <matplotlib.axes._subplots.AxesSubplot object at 0x0000020233495D88>,\n",
       "        <matplotlib.axes._subplots.AxesSubplot object at 0x000002023347A248>],\n",
       "       [<matplotlib.axes._subplots.AxesSubplot object at 0x0000020232F72D48>,\n",
       "        <matplotlib.axes._subplots.AxesSubplot object at 0x000002023297CAC8>,\n",
       "        <matplotlib.axes._subplots.AxesSubplot object at 0x00000202334B1888>,\n",
       "        <matplotlib.axes._subplots.AxesSubplot object at 0x00000202332E3D88>],\n",
       "       [<matplotlib.axes._subplots.AxesSubplot object at 0x00000202329CCF48>,\n",
       "        <matplotlib.axes._subplots.AxesSubplot object at 0x00000202333EE408>,\n",
       "        <matplotlib.axes._subplots.AxesSubplot object at 0x0000020232F90408>,\n",
       "        <matplotlib.axes._subplots.AxesSubplot object at 0x0000020232916848>],\n",
       "       [<matplotlib.axes._subplots.AxesSubplot object at 0x0000020233442588>,\n",
       "        <matplotlib.axes._subplots.AxesSubplot object at 0x0000020233737B48>,\n",
       "        <matplotlib.axes._subplots.AxesSubplot object at 0x0000020232F57448>,\n",
       "        <matplotlib.axes._subplots.AxesSubplot object at 0x00000202330A7608>]],\n",
       "      dtype=object)"
      ]
     },
     "execution_count": 9,
     "metadata": {},
     "output_type": "execute_result"
    },
    {
     "data": {
      "image/png": "[encoded data removed]",
      "text/plain": [
       "<Figure size 432x288 with 16 Axes>"
      ]
     },
     "metadata": {
      "needs_background": "light"
     },
     "output_type": "display_data"
    }
   ],
   "source": [
    "scatter_matrix(veri, alpha=0.7)"
   ]
  },
  {
   "cell_type": "code",
   "execution_count": 12,
   "metadata": {},
   "outputs": [],
   "source": [
    "x = veri.GDP"
   ]
  },
  {
   "cell_type": "code",
   "execution_count": 14,
   "metadata": {},
   "outputs": [
    {
     "data": {
      "text/plain": [
       "<matplotlib.axes._subplots.AxesSubplot at 0x2023403fb88>"
      ]
     },
     "execution_count": 14,
     "metadata": {},
     "output_type": "execute_result"
    },
    {
     "data": {
      "image/png": "[encoded data removed]",
      "text/plain": [
       "<Figure size 432x288 with 1 Axes>"
      ]
     },
     "metadata": {
      "needs_background": "light"
     },
     "output_type": "display_data"
    }
   ],
   "source": [
    "x.plot(marker = \"X\")"
   ]
  },
  {
   "cell_type": "code",
   "execution_count": 17,
   "metadata": {},
   "outputs": [],
   "source": [
    "y = veri.interest"
   ]
  },
  {
   "cell_type": "code",
   "execution_count": 20,
   "metadata": {},
   "outputs": [
    {
     "data": {
      "text/plain": [
       "<matplotlib.axes._subplots.AxesSubplot at 0x202340e1448>"
      ]
     },
     "execution_count": 20,
     "metadata": {},
     "output_type": "execute_result"
    },
    {
     "data": {
      "image/png": "[encoded data removed]",
      "text/plain": [
       "<Figure size 432x288 with 1 Axes>"
      ]
     },
     "metadata": {
      "needs_background": "light"
     },
     "output_type": "display_data"
    }
   ],
   "source": [
    "y.plot(color = \"r\", marker = \"X\")"
   ]
  },
  {
   "cell_type": "code",
   "execution_count": 3,
   "metadata": {},
   "outputs": [],
   "source": [
    "fin_data = pd.read_csv(\"AMZN.csv\")"
   ]
  },
  {
   "cell_type": "code",
   "execution_count": 6,
   "metadata": {},
   "outputs": [
    {
     "data": {
      "text/html": [
       "<div>\n",
       "<style scoped>\n",
       "    .dataframe tbody tr th:only-of-type {\n",
       "        vertical-align: middle;\n",
       "    }\n",
       "\n",
       "    .dataframe tbody tr th {\n",
       "        vertical-align: top;\n",
       "    }\n",
       "\n",
       "    .dataframe thead th {\n",
       "        text-align: right;\n",
       "    }\n",
       "</style>\n",
       "<table border=\"1\" class=\"dataframe\">\n",
       "  <thead>\n",
       "    <tr style=\"text-align: right;\">\n",
       "      <th></th>\n",
       "      <th>Date</th>\n",
       "      <th>Open</th>\n",
       "      <th>High</th>\n",
       "      <th>Low</th>\n",
       "      <th>Close</th>\n",
       "      <th>Adj Close</th>\n",
       "      <th>Volume</th>\n",
       "    </tr>\n",
       "  </thead>\n",
       "  <tbody>\n",
       "    <tr>\n",
       "      <th>0</th>\n",
       "      <td>2021-03-15</td>\n",
       "      <td>3074.570068</td>\n",
       "      <td>3082.239990</td>\n",
       "      <td>3032.090088</td>\n",
       "      <td>3081.679932</td>\n",
       "      <td>3081.679932</td>\n",
       "      <td>2913600</td>\n",
       "    </tr>\n",
       "    <tr>\n",
       "      <th>1</th>\n",
       "      <td>2021-03-16</td>\n",
       "      <td>3104.969971</td>\n",
       "      <td>3128.909912</td>\n",
       "      <td>3075.860107</td>\n",
       "      <td>3091.860107</td>\n",
       "      <td>3091.860107</td>\n",
       "      <td>2510100</td>\n",
       "    </tr>\n",
       "    <tr>\n",
       "      <th>2</th>\n",
       "      <td>2021-03-17</td>\n",
       "      <td>3073.219971</td>\n",
       "      <td>3173.050049</td>\n",
       "      <td>3070.219971</td>\n",
       "      <td>3135.729980</td>\n",
       "      <td>3135.729980</td>\n",
       "      <td>3100900</td>\n",
       "    </tr>\n",
       "    <tr>\n",
       "      <th>3</th>\n",
       "      <td>2021-03-18</td>\n",
       "      <td>3101.000000</td>\n",
       "      <td>3116.629883</td>\n",
       "      <td>3025.000000</td>\n",
       "      <td>3027.989990</td>\n",
       "      <td>3027.989990</td>\n",
       "      <td>3649600</td>\n",
       "    </tr>\n",
       "    <tr>\n",
       "      <th>4</th>\n",
       "      <td>2021-03-19</td>\n",
       "      <td>3029.229980</td>\n",
       "      <td>3077.290039</td>\n",
       "      <td>3016.629883</td>\n",
       "      <td>3074.959961</td>\n",
       "      <td>3074.959961</td>\n",
       "      <td>4616400</td>\n",
       "    </tr>\n",
       "    <tr>\n",
       "      <th>5</th>\n",
       "      <td>2021-03-22</td>\n",
       "      <td>3067.850098</td>\n",
       "      <td>3126.580078</td>\n",
       "      <td>3060.050049</td>\n",
       "      <td>3110.870117</td>\n",
       "      <td>3110.870117</td>\n",
       "      <td>2902200</td>\n",
       "    </tr>\n",
       "    <tr>\n",
       "      <th>6</th>\n",
       "      <td>2021-03-23</td>\n",
       "      <td>3127.000000</td>\n",
       "      <td>3182.000000</td>\n",
       "      <td>3120.850098</td>\n",
       "      <td>3137.500000</td>\n",
       "      <td>3137.500000</td>\n",
       "      <td>3817300</td>\n",
       "    </tr>\n",
       "    <tr>\n",
       "      <th>7</th>\n",
       "      <td>2021-03-24</td>\n",
       "      <td>3151.040039</td>\n",
       "      <td>3160.310059</td>\n",
       "      <td>3085.149902</td>\n",
       "      <td>3087.070068</td>\n",
       "      <td>3087.070068</td>\n",
       "      <td>2959000</td>\n",
       "    </tr>\n",
       "    <tr>\n",
       "      <th>8</th>\n",
       "      <td>2021-03-25</td>\n",
       "      <td>3072.989990</td>\n",
       "      <td>3109.780029</td>\n",
       "      <td>3037.139893</td>\n",
       "      <td>3046.260010</td>\n",
       "      <td>3046.260010</td>\n",
       "      <td>3563500</td>\n",
       "    </tr>\n",
       "    <tr>\n",
       "      <th>9</th>\n",
       "      <td>2021-03-26</td>\n",
       "      <td>3044.060059</td>\n",
       "      <td>3056.659912</td>\n",
       "      <td>2996.000000</td>\n",
       "      <td>3052.030029</td>\n",
       "      <td>3052.030029</td>\n",
       "      <td>3306700</td>\n",
       "    </tr>\n",
       "  </tbody>\n",
       "</table>\n",
       "</div>"
      ],
      "text/plain": [
       "         Date         Open         High          Low        Close  \\\n",
       "0  2021-03-15  3074.570068  3082.239990  3032.090088  3081.679932   \n",
       "1  2021-03-16  3104.969971  3128.909912  3075.860107  3091.860107   \n",
       "2  2021-03-17  3073.219971  3173.050049  3070.219971  3135.729980   \n",
       "3  2021-03-18  3101.000000  3116.629883  3025.000000  3027.989990   \n",
       "4  2021-03-19  3029.229980  3077.290039  3016.629883  3074.959961   \n",
       "5  2021-03-22  3067.850098  3126.580078  3060.050049  3110.870117   \n",
       "6  2021-03-23  3127.000000  3182.000000  3120.850098  3137.500000   \n",
       "7  2021-03-24  3151.040039  3160.310059  3085.149902  3087.070068   \n",
       "8  2021-03-25  3072.989990  3109.780029  3037.139893  3046.260010   \n",
       "9  2021-03-26  3044.060059  3056.659912  2996.000000  3052.030029   \n",
       "\n",
       "     Adj Close   Volume  \n",
       "0  3081.679932  2913600  \n",
       "1  3091.860107  2510100  \n",
       "2  3135.729980  3100900  \n",
       "3  3027.989990  3649600  \n",
       "4  3074.959961  4616400  \n",
       "5  3110.870117  2902200  \n",
       "6  3137.500000  3817300  \n",
       "7  3087.070068  2959000  \n",
       "8  3046.260010  3563500  \n",
       "9  3052.030029  3306700  "
      ]
     },
     "execution_count": 6,
     "metadata": {},
     "output_type": "execute_result"
    }
   ],
   "source": [
    "fin_data.head(10)"
   ]
  },
  {
   "cell_type": "code",
   "execution_count": 8,
   "metadata": {},
   "outputs": [],
   "source": [
    "new_list = fin_data['Close']"
   ]
  },
  {
   "cell_type": "code",
   "execution_count": 9,
   "metadata": {},
   "outputs": [
    {
     "data": {
      "text/plain": [
       "0     3081.679932\n",
       "1     3091.860107\n",
       "2     3135.729980\n",
       "3     3027.989990\n",
       "4     3074.959961\n",
       "5     3110.870117\n",
       "6     3137.500000\n",
       "7     3087.070068\n",
       "8     3046.260010\n",
       "9     3052.030029\n",
       "10    3075.729980\n",
       "11    3055.290039\n",
       "12    3094.080078\n",
       "13    3161.000000\n",
       "14    3226.729980\n",
       "15    3223.820068\n",
       "16    3279.389893\n",
       "17    3299.300049\n",
       "18    3372.199951\n",
       "19    3379.389893\n",
       "20    3400.000000\n",
       "21    3333.000000\n",
       "22    3379.090088\n",
       "23    3399.439941\n",
       "24    3372.010010\n",
       "25    3334.689941\n",
       "26    3362.020020\n",
       "27    3309.040039\n",
       "28    3340.879883\n",
       "29    3409.000000\n",
       "Name: Close, dtype: float64"
      ]
     },
     "execution_count": 9,
     "metadata": {},
     "output_type": "execute_result"
    }
   ],
   "source": [
    "new_list"
   ]
  },
  {
   "cell_type": "code",
   "execution_count": 14,
   "metadata": {},
   "outputs": [
    {
     "name": "stdout",
     "output_type": "stream",
     "text": [
      "49306.878912\n",
      "49469.761712\n",
      "50171.67968\n",
      "48447.83984\n",
      "49199.359376\n",
      "49773.921872000006\n",
      "50200.0\n",
      "49393.121088\n",
      "48740.16016\n",
      "48832.480464\n",
      "49211.67968\n",
      "48884.640624\n",
      "49505.281248\n",
      "50576.0\n",
      "51627.67968\n",
      "51581.121088\n",
      "52470.238288\n",
      "52788.800784\n",
      "53955.19921599999\n",
      "54070.238288\n",
      "54400.0\n",
      "53328.0\n",
      "54065.441408000006\n",
      "54391.039055999994\n",
      "53952.16016\n",
      "53355.039056\n",
      "53792.320320000006\n",
      "52944.640624\n",
      "53454.078127999994\n",
      "54544.0\n"
     ]
    }
   ],
   "source": [
    "for i in new_list:\n",
    "    print(i*16)"
   ]
  },
  {
   "cell_type": "code",
   "execution_count": 6,
   "metadata": {},
   "outputs": [],
   "source": [
    "tesla_data = pd.read_csv(\"TSLA.csv\")"
   ]
  },
  {
   "cell_type": "code",
   "execution_count": 7,
   "metadata": {},
   "outputs": [
    {
     "data": {
      "text/html": [
       "<div>\n",
       "<style scoped>\n",
       "    .dataframe tbody tr th:only-of-type {\n",
       "        vertical-align: middle;\n",
       "    }\n",
       "\n",
       "    .dataframe tbody tr th {\n",
       "        vertical-align: top;\n",
       "    }\n",
       "\n",
       "    .dataframe thead th {\n",
       "        text-align: right;\n",
       "    }\n",
       "</style>\n",
       "<table border=\"1\" class=\"dataframe\">\n",
       "  <thead>\n",
       "    <tr style=\"text-align: right;\">\n",
       "      <th></th>\n",
       "      <th>Date</th>\n",
       "      <th>Open</th>\n",
       "      <th>High</th>\n",
       "      <th>Low</th>\n",
       "      <th>Close</th>\n",
       "      <th>Adj Close</th>\n",
       "      <th>Volume</th>\n",
       "    </tr>\n",
       "  </thead>\n",
       "  <tbody>\n",
       "    <tr>\n",
       "      <th>0</th>\n",
       "      <td>2021-03-15</td>\n",
       "      <td>694.090027</td>\n",
       "      <td>713.179993</td>\n",
       "      <td>684.039978</td>\n",
       "      <td>707.940002</td>\n",
       "      <td>707.940002</td>\n",
       "      <td>29335600</td>\n",
       "    </tr>\n",
       "    <tr>\n",
       "      <th>1</th>\n",
       "      <td>2021-03-16</td>\n",
       "      <td>703.349976</td>\n",
       "      <td>707.919983</td>\n",
       "      <td>671.000000</td>\n",
       "      <td>676.880005</td>\n",
       "      <td>676.880005</td>\n",
       "      <td>31903400</td>\n",
       "    </tr>\n",
       "    <tr>\n",
       "      <th>2</th>\n",
       "      <td>2021-03-17</td>\n",
       "      <td>656.869995</td>\n",
       "      <td>703.729980</td>\n",
       "      <td>651.010010</td>\n",
       "      <td>701.809998</td>\n",
       "      <td>701.809998</td>\n",
       "      <td>40083300</td>\n",
       "    </tr>\n",
       "    <tr>\n",
       "      <th>3</th>\n",
       "      <td>2021-03-18</td>\n",
       "      <td>684.289978</td>\n",
       "      <td>689.229980</td>\n",
       "      <td>652.000000</td>\n",
       "      <td>653.159973</td>\n",
       "      <td>653.159973</td>\n",
       "      <td>33224800</td>\n",
       "    </tr>\n",
       "    <tr>\n",
       "      <th>4</th>\n",
       "      <td>2021-03-19</td>\n",
       "      <td>646.599976</td>\n",
       "      <td>657.229980</td>\n",
       "      <td>624.619995</td>\n",
       "      <td>654.869995</td>\n",
       "      <td>654.869995</td>\n",
       "      <td>42827400</td>\n",
       "    </tr>\n",
       "    <tr>\n",
       "      <th>5</th>\n",
       "      <td>2021-03-22</td>\n",
       "      <td>684.590027</td>\n",
       "      <td>699.619995</td>\n",
       "      <td>668.750000</td>\n",
       "      <td>670.000000</td>\n",
       "      <td>670.000000</td>\n",
       "      <td>39512200</td>\n",
       "    </tr>\n",
       "    <tr>\n",
       "      <th>6</th>\n",
       "      <td>2021-03-23</td>\n",
       "      <td>675.770020</td>\n",
       "      <td>677.799988</td>\n",
       "      <td>657.510010</td>\n",
       "      <td>662.159973</td>\n",
       "      <td>662.159973</td>\n",
       "      <td>30491900</td>\n",
       "    </tr>\n",
       "    <tr>\n",
       "      <th>7</th>\n",
       "      <td>2021-03-24</td>\n",
       "      <td>667.909973</td>\n",
       "      <td>668.020020</td>\n",
       "      <td>630.109985</td>\n",
       "      <td>630.270020</td>\n",
       "      <td>630.270020</td>\n",
       "      <td>33795200</td>\n",
       "    </tr>\n",
       "    <tr>\n",
       "      <th>8</th>\n",
       "      <td>2021-03-25</td>\n",
       "      <td>613.000000</td>\n",
       "      <td>645.500000</td>\n",
       "      <td>609.500000</td>\n",
       "      <td>640.390015</td>\n",
       "      <td>640.390015</td>\n",
       "      <td>39224900</td>\n",
       "    </tr>\n",
       "    <tr>\n",
       "      <th>9</th>\n",
       "      <td>2021-03-26</td>\n",
       "      <td>641.869995</td>\n",
       "      <td>643.820007</td>\n",
       "      <td>599.890015</td>\n",
       "      <td>618.710022</td>\n",
       "      <td>618.710022</td>\n",
       "      <td>33778400</td>\n",
       "    </tr>\n",
       "  </tbody>\n",
       "</table>\n",
       "</div>"
      ],
      "text/plain": [
       "         Date        Open        High         Low       Close   Adj Close  \\\n",
       "0  2021-03-15  694.090027  713.179993  684.039978  707.940002  707.940002   \n",
       "1  2021-03-16  703.349976  707.919983  671.000000  676.880005  676.880005   \n",
       "2  2021-03-17  656.869995  703.729980  651.010010  701.809998  701.809998   \n",
       "3  2021-03-18  684.289978  689.229980  652.000000  653.159973  653.159973   \n",
       "4  2021-03-19  646.599976  657.229980  624.619995  654.869995  654.869995   \n",
       "5  2021-03-22  684.590027  699.619995  668.750000  670.000000  670.000000   \n",
       "6  2021-03-23  675.770020  677.799988  657.510010  662.159973  662.159973   \n",
       "7  2021-03-24  667.909973  668.020020  630.109985  630.270020  630.270020   \n",
       "8  2021-03-25  613.000000  645.500000  609.500000  640.390015  640.390015   \n",
       "9  2021-03-26  641.869995  643.820007  599.890015  618.710022  618.710022   \n",
       "\n",
       "     Volume  \n",
       "0  29335600  \n",
       "1  31903400  \n",
       "2  40083300  \n",
       "3  33224800  \n",
       "4  42827400  \n",
       "5  39512200  \n",
       "6  30491900  \n",
       "7  33795200  \n",
       "8  39224900  \n",
       "9  33778400  "
      ]
     },
     "execution_count": 7,
     "metadata": {},
     "output_type": "execute_result"
    }
   ],
   "source": [
    "tesla_data.head(10)"
   ]
  },
  {
   "cell_type": "code",
   "execution_count": 8,
   "metadata": {},
   "outputs": [
    {
     "data": {
      "text/plain": [
       "0     707.940002\n",
       "1     676.880005\n",
       "2     701.809998\n",
       "3     653.159973\n",
       "4     654.869995\n",
       "5     670.000000\n",
       "6     662.159973\n",
       "7     630.270020\n",
       "8     640.390015\n",
       "9     618.710022\n",
       "10    611.289978\n",
       "11    635.619995\n",
       "12    667.929993\n",
       "13    661.750000\n",
       "14    691.049988\n",
       "15    691.619995\n",
       "16    670.969971\n",
       "17    683.799988\n",
       "18    677.020020\n",
       "19    701.979980\n",
       "20    762.320007\n",
       "21    732.229980\n",
       "22    738.849976\n",
       "23    739.780029\n",
       "24    714.630005\n",
       "25    718.989990\n",
       "26    744.119995\n",
       "27    719.690002\n",
       "28    729.400024\n",
       "29    738.200012\n",
       "Name: Close, dtype: float64"
      ]
     },
     "execution_count": 8,
     "metadata": {},
     "output_type": "execute_result"
    }
   ],
   "source": [
    "tesla_list = tesla_data['Close']\n",
    "tesla_list"
   ]
  },
  {
   "cell_type": "code",
   "execution_count": 22,
   "metadata": {},
   "outputs": [
    {
     "name": "stdout",
     "output_type": "stream",
     "text": [
      "50065.51694143999\n",
      "47868.9539536\n",
      "49632.00305856\n",
      "46191.47329056\n",
      "46312.4060464\n",
      "47382.4\n",
      "46827.95329056\n",
      "44572.6958144\n",
      "45288.3818608\n",
      "43755.172755839994\n",
      "43230.427244160004\n",
      "44951.0460464\n",
      "47236.009104959994\n",
      "46798.96\n",
      "48871.05515136\n",
      "48911.3660464\n",
      "47450.996349119996\n",
      "48358.33515136\n",
      "47878.855814400005\n",
      "49644.0241856\n",
      "53911.270895040005\n",
      "51783.3041856\n",
      "52251.470302719994\n",
      "52317.24365088\n",
      "50538.6339536\n",
      "50846.9720928\n",
      "52624.1660464\n",
      "50896.47694143999\n",
      "51583.16969728\n",
      "52205.50484864\n"
     ]
    }
   ],
   "source": [
    "for i in tesla_list:\n",
    "    print(i*70.72)"
   ]
  },
  {
   "cell_type": "code",
   "execution_count": 28,
   "metadata": {},
   "outputs": [],
   "source": [
    "tesla_close = [i*70.72 for i in tesla_list]"
   ]
  },
  {
   "cell_type": "code",
   "execution_count": 29,
   "metadata": {},
   "outputs": [
    {
     "data": {
      "text/plain": [
       "[50065.51694143999,\n",
       " 47868.9539536,\n",
       " 49632.00305856,\n",
       " 46191.47329056,\n",
       " 46312.4060464,\n",
       " 47382.4,\n",
       " 46827.95329056,\n",
       " 44572.6958144,\n",
       " 45288.3818608,\n",
       " 43755.172755839994,\n",
       " 43230.427244160004,\n",
       " 44951.0460464,\n",
       " 47236.009104959994,\n",
       " 46798.96,\n",
       " 48871.05515136,\n",
       " 48911.3660464,\n",
       " 47450.996349119996,\n",
       " 48358.33515136,\n",
       " 47878.855814400005,\n",
       " 49644.0241856,\n",
       " 53911.270895040005,\n",
       " 51783.3041856,\n",
       " 52251.470302719994,\n",
       " 52317.24365088,\n",
       " 50538.6339536,\n",
       " 50846.9720928,\n",
       " 52624.1660464,\n",
       " 50896.47694143999,\n",
       " 51583.16969728,\n",
       " 52205.50484864]"
      ]
     },
     "execution_count": 29,
     "metadata": {},
     "output_type": "execute_result"
    }
   ],
   "source": [
    "tesla_close"
   ]
  },
  {
   "cell_type": "code",
   "execution_count": 30,
   "metadata": {},
   "outputs": [],
   "source": [
    "amzn_close = [i*16 for i in new_list]"
   ]
  },
  {
   "cell_type": "code",
   "execution_count": 31,
   "metadata": {},
   "outputs": [
    {
     "data": {
      "text/plain": [
       "[49306.878912,\n",
       " 49469.761712,\n",
       " 50171.67968,\n",
       " 48447.83984,\n",
       " 49199.359376,\n",
       " 49773.921872000006,\n",
       " 50200.0,\n",
       " 49393.121088,\n",
       " 48740.16016,\n",
       " 48832.480464,\n",
       " 49211.67968,\n",
       " 48884.640624,\n",
       " 49505.281248,\n",
       " 50576.0,\n",
       " 51627.67968,\n",
       " 51581.121088,\n",
       " 52470.238288,\n",
       " 52788.800784,\n",
       " 53955.19921599999,\n",
       " 54070.238288,\n",
       " 54400.0,\n",
       " 53328.0,\n",
       " 54065.441408000006,\n",
       " 54391.039055999994,\n",
       " 53952.16016,\n",
       " 53355.039056,\n",
       " 53792.320320000006,\n",
       " 52944.640624,\n",
       " 53454.078127999994,\n",
       " 54544.0]"
      ]
     },
     "execution_count": 31,
     "metadata": {},
     "output_type": "execute_result"
    }
   ],
   "source": [
    "amzn_close"
   ]
  },
  {
   "cell_type": "code",
   "execution_count": 34,
   "metadata": {},
   "outputs": [
    {
     "name": "stdout",
     "output_type": "stream",
     "text": [
      "99372.39585343999\n",
      "97338.7156656\n",
      "99803.68273856\n",
      "94639.31313056001\n",
      "95511.7654224\n",
      "97156.321872\n",
      "97027.95329055999\n",
      "93965.8169024\n",
      "94028.5420208\n",
      "92587.65321984\n",
      "92442.10692416\n",
      "93835.6866704\n",
      "96741.29035296\n",
      "97374.95999999999\n",
      "100498.73483136\n",
      "100492.4871344\n",
      "99921.23463712\n",
      "101147.13593536\n",
      "101834.05503039999\n",
      "103714.2624736\n",
      "108311.27089504001\n",
      "105111.30418559999\n",
      "106316.91171072\n",
      "106708.28270688\n",
      "104490.7941136\n",
      "104202.0111488\n",
      "106416.4863664\n",
      "103841.11756543998\n",
      "105037.24782527999\n",
      "106749.50484864\n"
     ]
    }
   ],
   "source": [
    "for i in range(len(new_list)):\n",
    "    x = amzn_close[i] + tesla_close[i]\n",
    "    print(x)"
   ]
  },
  {
   "cell_type": "code",
   "execution_count": 33,
   "metadata": {},
   "outputs": [
    {
     "name": "stdout",
     "output_type": "stream",
     "text": [
      "106749.50484864\n"
     ]
    }
   ],
   "source": [
    "print(x)"
   ]
  },
  {
   "cell_type": "code",
   "execution_count": 1,
   "metadata": {},
   "outputs": [],
   "source": [
    "def pv(k, r, t):\n",
    "    present_value = k/(1+r)**t\n",
    "    return present_value\n",
    "\n",
    "def fv(k, r, t):\n",
    "    future_value = k*(1+r)**t\n",
    "    return future_value\n",
    "\n",
    "def pv_annuity(k, r, t):\n",
    "    rep = 0\n",
    "    for i in range(t):\n",
    "        present_value = k/(1+r)**t\n",
    "        t+=1\n",
    "        rep+=present_value\n",
    "    return rep\n"
   ]
  },
  {
   "cell_type": "code",
   "execution_count": 3,
   "metadata": {},
   "outputs": [
    {
     "data": {
      "text/plain": [
       "1100.0"
      ]
     },
     "execution_count": 3,
     "metadata": {},
     "output_type": "execute_result"
    }
   ],
   "source": [
    "fv(1000, 0.1, 1)"
   ]
  },
  {
   "cell_type": "code",
   "execution_count": 7,
   "metadata": {},
   "outputs": [
    {
     "data": {
      "text/plain": [
       "2663.805470390663"
      ]
     },
     "execution_count": 7,
     "metadata": {},
     "output_type": "execute_result"
    }
   ],
   "source": [
    "pv_annuity(700, 0.04, 5)"
   ]
  },
  {
   "cell_type": "code",
   "execution_count": 35,
   "metadata": {},
   "outputs": [],
   "source": [
    "\n",
    "def fv_mixedstream(ls, r):\n",
    "    num = 0\n",
    "    pro = []\n",
    "    for i in range(len(ls)):\n",
    "        fv = ls[i]*(1+r)**(i+1)\n",
    "        pro.append(fv)\n",
    "        num += fv\n",
    "    print(f\"fv of mixed stream of is {num}\")\n",
    "    return pro"
   ]
  },
  {
   "cell_type": "code",
   "execution_count": 36,
   "metadata": {},
   "outputs": [
    {
     "name": "stdout",
     "output_type": "stream",
     "text": [
      "fv of mixed stream of is 93215.61354240002\n"
     ]
    },
    {
     "data": {
      "text/plain": [
       "[12420.0,\n",
       " 16329.600000000002,\n",
       " 16250.284800000001,\n",
       " 21767.823360000006,\n",
       " 26447.90538240001]"
      ]
     },
     "execution_count": 36,
     "metadata": {},
     "output_type": "execute_result"
    }
   ],
   "source": [
    "liste = [11500, 14000, 12900, 16000, 18000]\n",
    "\n",
    "fv_mixedstream(liste, 0.08)"
   ]
  },
  {
   "cell_type": "code",
   "execution_count": 20,
   "metadata": {},
   "outputs": [
    {
     "data": {
      "text/plain": [
       "12420.0"
      ]
     },
     "execution_count": 20,
     "metadata": {},
     "output_type": "execute_result"
    }
   ],
   "source": [
    "11500*(1+0.08)**1"
   ]
  },
  {
   "cell_type": "code",
   "execution_count": 33,
   "metadata": {},
   "outputs": [],
   "source": [
    "def pv_mix(lst, r):\n",
    "    numm = 0\n",
    "    pro = []\n",
    "    for i in range(len(ls)):\n",
    "        pv = lst[i]*(1+r)**(i+1)\n",
    "        pro.append(pv)\n",
    "    return pro"
   ]
  },
  {
   "cell_type": "code",
   "execution_count": 34,
   "metadata": {},
   "outputs": [
    {
     "data": {
      "text/plain": [
       "[]"
      ]
     },
     "execution_count": 34,
     "metadata": {},
     "output_type": "execute_result"
    }
   ],
   "source": [
    "listee = [400, 800, 500, 400, 300]\n",
    "\n",
    "pv_mix(listee, 0.09)"
   ]
  },
  {
   "cell_type": "code",
   "execution_count": 10,
   "metadata": {},
   "outputs": [],
   "source": [
    "def temp():\n",
    "    x = int(input(\"type the maximum celcius: \"))\n",
    "    y = int(input(\"type the interval: \"))\n",
    "    for c in range(0,x,y):\n",
    "        ret = (9/5)*c + 32\n",
    "        print(f\"celcius: {c}, fahrenheit: {ret}\")"
   ]
  },
  {
   "cell_type": "code",
   "execution_count": 11,
   "metadata": {},
   "outputs": [
    {
     "name": "stdout",
     "output_type": "stream",
     "text": [
      "type the maximum celcius: 200\n",
      "type the interval: 25\n",
      "celcius: 0, fahrenheit: 32.0\n",
      "celcius: 25, fahrenheit: 77.0\n",
      "celcius: 50, fahrenheit: 122.0\n",
      "celcius: 75, fahrenheit: 167.0\n",
      "celcius: 100, fahrenheit: 212.0\n",
      "celcius: 125, fahrenheit: 257.0\n",
      "celcius: 150, fahrenheit: 302.0\n",
      "celcius: 175, fahrenheit: 347.0\n"
     ]
    }
   ],
   "source": [
    "temp()"
   ]
  },
  {
   "cell_type": "code",
   "execution_count": 1,
   "metadata": {},
   "outputs": [],
   "source": [
    "def futval():\n",
    "    y = int(input(\"type the year: \"))\n",
    "    amount = float(input(\"type the amount: \"))\n",
    "    apr = float(input(\"type the interest rate: \"))\n",
    "    fixed_inv = float(input(\"type the fixed investment: \"))\n",
    "    for i in range(y):\n",
    "        while i > 1:\n",
    "            amount = amount + fixed_inv\n",
    "        amount = amount + amount*apr\n",
    "    print(f\"amount is {amount}\")"
   ]
  },
  {
   "cell_type": "code",
   "execution_count": null,
   "metadata": {},
   "outputs": [],
   "source": [
    "futval()"
   ]
  },
  {
   "cell_type": "code",
   "execution_count": 11,
   "metadata": {},
   "outputs": [],
   "source": [
    "def dist_thund():\n",
    "    sec = float(input(\"how many seconds passed from when you heard the thunder? \"))\n",
    "    #speed of sound is 1100 ft\n",
    "    spd = 1100*sec\n",
    "    # 1 mile is 5280 ft\n",
    "    dist = spd/5280\n",
    "    if dist > 1:\n",
    "        print(f\"you are {dist} miles or {dist*1.609} km away from the thunder\")\n",
    "    else:\n",
    "        print(f\"you are {dist} mile or {dist*1.609} km away from the thunder\")\n",
    "        "
   ]
  },
  {
   "cell_type": "code",
   "execution_count": 12,
   "metadata": {},
   "outputs": [
    {
     "name": "stdout",
     "output_type": "stream",
     "text": [
      "how many seconds passed from when you heard the thunder? 5\n",
      "you are 1.0416666666666667 miles or 1.6760416666666669 km away from the thunder\n"
     ]
    }
   ],
   "source": [
    "dist_thund()"
   ]
  },
  {
   "cell_type": "code",
   "execution_count": 13,
   "metadata": {},
   "outputs": [],
   "source": [
    "def coffee():\n",
    "    pound = float(input(\"how many pounds ordered? \"))\n",
    "    total = pound*10.50 + 0.86*pound + 1.5\n",
    "    return total"
   ]
  },
  {
   "cell_type": "code",
   "execution_count": 16,
   "metadata": {},
   "outputs": [
    {
     "name": "stdout",
     "output_type": "stream",
     "text": [
      "how many pounds ordered? 2\n"
     ]
    },
    {
     "data": {
      "text/plain": [
       "24.22"
      ]
     },
     "execution_count": 16,
     "metadata": {},
     "output_type": "execute_result"
    }
   ],
   "source": [
    "coffee()"
   ]
  },
  {
   "cell_type": "code",
   "execution_count": 17,
   "metadata": {},
   "outputs": [
    {
     "data": {
      "text/plain": [
       "24.22"
      ]
     },
     "execution_count": 17,
     "metadata": {},
     "output_type": "execute_result"
    }
   ],
   "source": [
    "10.5*2 + 0.86*2 + 1.5"
   ]
  },
  {
   "cell_type": "code",
   "execution_count": 25,
   "metadata": {},
   "outputs": [],
   "source": [
    "def slp_dist():\n",
    "    #return slope\n",
    "    import math\n",
    "    y2 = float(input(\"y2: \"))\n",
    "    y1 = float(input(\"y1: \"))\n",
    "    x2 = float(input(\"x2: \"))\n",
    "    x1 = float(input(\"x1: \"))\n",
    "    slope = (y2 - y1)/(x2 - x1)\n",
    "    dist = math.sqrt((x2 - x1)**2 + (y2 - y1)**2)\n",
    "    print(f\"slope is {slope}, distance is {dist}\")"
   ]
  },
  {
   "cell_type": "code",
   "execution_count": 27,
   "metadata": {},
   "outputs": [
    {
     "name": "stdout",
     "output_type": "stream",
     "text": [
      "y2: 10\n",
      "y1: 2\n",
      "x2: 5\n",
      "x1: 1\n"
     ]
    },
    {
     "data": {
      "text/plain": [
       "2.0"
      ]
     },
     "execution_count": 27,
     "metadata": {},
     "output_type": "execute_result"
    }
   ],
   "source": [
    "slope()"
   ]
  },
  {
   "cell_type": "code",
   "execution_count": 36,
   "metadata": {},
   "outputs": [],
   "source": [
    "def sum(n):\n",
    "    x = 0\n",
    "    for i in range(0, n+1, 1):\n",
    "        x = x+n\n",
    "        print(x)\n"
   ]
  },
  {
   "cell_type": "code",
   "execution_count": 37,
   "metadata": {},
   "outputs": [
    {
     "name": "stdout",
     "output_type": "stream",
     "text": [
      "10\n",
      "20\n",
      "30\n",
      "40\n",
      "50\n",
      "60\n",
      "70\n",
      "80\n",
      "90\n",
      "100\n",
      "110\n"
     ]
    }
   ],
   "source": [
    "sum(10)"
   ]
  },
  {
   "cell_type": "code",
   "execution_count": 42,
   "metadata": {},
   "outputs": [],
   "source": [
    "def sum(n):\n",
    "    x = 0\n",
    "    for i in range(n+1):\n",
    "        x = x+i\n",
    "    return x"
   ]
  },
  {
   "cell_type": "code",
   "execution_count": 43,
   "metadata": {},
   "outputs": [
    {
     "data": {
      "text/plain": [
       "55"
      ]
     },
     "execution_count": 43,
     "metadata": {},
     "output_type": "execute_result"
    }
   ],
   "source": [
    "sum(10)"
   ]
  },
  {
   "cell_type": "code",
   "execution_count": 45,
   "metadata": {},
   "outputs": [],
   "source": [
    "def length():\n",
    "    import math\n",
    "    angle_in_degrees = float(input(\"angle in degrees: \"))\n",
    "    angle_in_radians = (math.pi*angle_in_degrees)/180\n",
    "    length = height / math.sin(angle_in_radians)\n",
    "    return length"
   ]
  },
  {
   "cell_type": "code",
   "execution_count": 50,
   "metadata": {},
   "outputs": [],
   "source": [
    "def sum_cubes(n):\n",
    "    given = 0\n",
    "    for i in range(n+1):\n",
    "        given = given + (i**3)\n",
    "    return given\n",
    "        "
   ]
  },
  {
   "cell_type": "code",
   "execution_count": 51,
   "metadata": {},
   "outputs": [
    {
     "data": {
      "text/plain": [
       "36"
      ]
     },
     "execution_count": 51,
     "metadata": {},
     "output_type": "execute_result"
    }
   ],
   "source": [
    "sum_cubes(3)"
   ]
  },
  {
   "cell_type": "code",
   "execution_count": 52,
   "metadata": {},
   "outputs": [
    {
     "data": {
      "text/plain": [
       "36"
      ]
     },
     "execution_count": 52,
     "metadata": {},
     "output_type": "execute_result"
    }
   ],
   "source": [
    "1**3 + 2**3 + 3**3"
   ]
  },
  {
   "cell_type": "code",
   "execution_count": 53,
   "metadata": {},
   "outputs": [],
   "source": [
    "def avg(n):\n",
    "    given = 0\n",
    "    for i in range(n+1):\n",
    "        given = given + i\n",
    "    return given/n"
   ]
  },
  {
   "cell_type": "code",
   "execution_count": 55,
   "metadata": {},
   "outputs": [
    {
     "data": {
      "text/plain": [
       "5.5"
      ]
     },
     "execution_count": 55,
     "metadata": {},
     "output_type": "execute_result"
    }
   ],
   "source": [
    "avg(10)"
   ]
  },
  {
   "cell_type": "code",
   "execution_count": 61,
   "metadata": {},
   "outputs": [],
   "source": [
    "def apprx_pi(n):\n",
    "    num = 0\n",
    "    for i in range(n+1):\n",
    "        num = num + (4/(n+1) - 4/((n+1)+2))\n",
    "    return num"
   ]
  },
  {
   "cell_type": "code",
   "execution_count": 65,
   "metadata": {},
   "outputs": [
    {
     "data": {
      "text/plain": [
       "0.0007997600719786602"
      ]
     },
     "execution_count": 65,
     "metadata": {},
     "output_type": "execute_result"
    }
   ],
   "source": [
    "apprx_pi(10000)"
   ]
  },
  {
   "cell_type": "code",
   "execution_count": null,
   "metadata": {},
   "outputs": [],
   "source": []
  }
 ],
 "metadata": {
  "kernelspec": {
   "display_name": "Python 3",
   "language": "python",
   "name": "python3"
  },
  "language_info": {
   "codemirror_mode": {
    "name": "ipython",
    "version": 3
   },
   "file_extension": ".py",
   "mimetype": "text/x-python",
   "name": "python",
   "nbconvert_exporter": "python",
   "pygments_lexer": "ipython3",
   "version": "3.7.6"
  }
 },
 "nbformat": 4,
 "nbformat_minor": 4
}
